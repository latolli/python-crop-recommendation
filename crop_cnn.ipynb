{
 "cells": [
  {
   "cell_type": "code",
   "execution_count": 1,
   "id": "874445ec",
   "metadata": {},
   "outputs": [],
   "source": [
    "#1 dimensional CNN for predicting optimal crops based on soil data (N, P, K, temperature, humidity, ph, rainfall)\n",
    "\n",
    "#model implemented based on this example\n",
    "#https://www.analyticsvidhya.com/blog/2021/07/convolution-neural-network-the-base-for-many-deep-learning-algorithms-cnn-illustrated-by-1-d-ecg-signal-physionet/\n",
    "\n",
    "#import libraries\n",
    "import numpy as np\n",
    "import pandas as pd\n",
    "import matplotlib.pyplot as plt\n",
    "import random\n",
    "import tensorflow as tf\n",
    "#import some functions for splitting data and constructing CNN model\n",
    "from sklearn.model_selection import train_test_split\n",
    "from tensorflow.keras.layers import Flatten, Dense, Conv1D, MaxPool1D, Dropout"
   ]
  },
  {
   "cell_type": "code",
   "execution_count": 2,
   "id": "4a389b9a",
   "metadata": {},
   "outputs": [
    {
     "name": "stdout",
     "output_type": "stream",
     "text": [
      "Original data: \n",
      "     N   P   K  temperature   humidity        ph    rainfall label\n",
      "0  90  42  43    20.879744  82.002744  6.502985  202.935536  rice\n",
      "1  85  58  41    21.770462  80.319644  7.038096  226.655537  rice\n",
      "2  60  55  44    23.004459  82.320763  7.840207  263.964248  rice\n",
      "3  74  35  40    26.491096  80.158363  6.980401  242.864034  rice\n",
      "4  78  42  42    20.130175  81.604873  7.628473  262.717340  rice\n",
      "Data after modifying labels: \n",
      "     N   P   K  temperature   humidity        ph    rainfall label\n",
      "0  90  42  43    20.879744  82.002744  6.502985  202.935536     0\n",
      "1  85  58  41    21.770462  80.319644  7.038096  226.655537     0\n",
      "2  60  55  44    23.004459  82.320763  7.840207  263.964248     0\n",
      "3  74  35  40    26.491096  80.158363  6.980401  242.864034     0\n",
      "4  78  42  42    20.130175  81.604873  7.628473  262.717340     0\n"
     ]
    }
   ],
   "source": [
    "#load data from input folder\n",
    "data = pd.read_csv('input/Crop_recommendation.csv')\n",
    "num_of_data = len(data)\n",
    "\n",
    "print(\"Original data: \\n\", data.head())\n",
    "\n",
    "#convert label strings to numbers (rice=0, maize=1, chickpea=2...)\n",
    "for row in range(num_of_data):\n",
    "    if data.at[row, 'label'] == 'rice':\n",
    "        data.at[row, 'label'] = 0\n",
    "    elif data.at[row, 'label'] == 'maize':\n",
    "        data.at[row, 'label'] = 1\n",
    "    elif data.at[row, 'label'] == 'chickpea':\n",
    "        data.at[row, 'label'] = 2\n",
    "    elif data.at[row, 'label'] == 'kidneybeans':\n",
    "        data.at[row, 'label'] = 3\n",
    "    elif data.at[row, 'label'] == 'pigeonpeas':\n",
    "        data.at[row, 'label'] = 4\n",
    "    elif data.at[row, 'label'] == 'mothbeans':\n",
    "        data.at[row, 'label'] = 5\n",
    "    elif data.at[row, 'label'] == 'mungbean':\n",
    "        data.at[row, 'label'] = 6\n",
    "    elif data.at[row, 'label'] == 'blackgram':\n",
    "        data.at[row, 'label'] = 7\n",
    "    elif data.at[row, 'label'] == 'lentil':\n",
    "        data.at[row, 'label'] = 8\n",
    "    elif data.at[row, 'label'] == 'pomegranate':\n",
    "        data.at[row, 'label'] = 9\n",
    "    elif data.at[row, 'label'] == 'banana':\n",
    "        data.at[row, 'label'] = 10\n",
    "    elif data.at[row, 'label'] == 'mango':\n",
    "        data.at[row, 'label'] = 11\n",
    "    elif data.at[row, 'label'] == 'grapes':\n",
    "        data.at[row, 'label'] = 12\n",
    "    elif data.at[row, 'label'] == 'watermelon':\n",
    "        data.at[row, 'label'] = 13\n",
    "    elif data.at[row, 'label'] == 'muskmelon':\n",
    "        data.at[row, 'label'] = 14\n",
    "    elif data.at[row, 'label'] == 'apple':\n",
    "        data.at[row, 'label'] = 15\n",
    "    elif data.at[row, 'label'] == 'orange':\n",
    "        data.at[row, 'label'] = 16\n",
    "    elif data.at[row, 'label'] == 'papaya':\n",
    "        data.at[row, 'label'] = 17\n",
    "    elif data.at[row, 'label'] == 'coconut':\n",
    "        data.at[row, 'label'] = 18\n",
    "    elif data.at[row, 'label'] == 'cotton':\n",
    "        data.at[row, 'label'] = 19\n",
    "    elif data.at[row, 'label'] == 'jute':\n",
    "        data.at[row, 'label'] = 20\n",
    "    elif data.at[row, 'label'] == 'coffee':\n",
    "        data.at[row, 'label'] = 21\n",
    "        \n",
    "print(\"Data after modifying labels: \\n\", data.head())"
   ]
  },
  {
   "cell_type": "code",
   "execution_count": 3,
   "id": "fd33de26",
   "metadata": {},
   "outputs": [
    {
     "name": "stdout",
     "output_type": "stream",
     "text": [
      "df_test shape:  (660, 8)\n",
      "df_train shape:  (1540, 8)\n",
      "      N     P     K  temperature   humidity        ph    rainfall  label\n",
      "0  90.0  42.0  43.0    20.879744  82.002744  6.502985  202.935536    0.0\n",
      "1  78.0  42.0  42.0    20.130175  81.604873  7.628473  262.717340    0.0\n",
      "2  69.0  55.0  38.0    22.708838  82.639414  5.700806  271.324860    0.0\n",
      "3  94.0  53.0  40.0    20.277744  82.894086  5.718627  241.974195    0.0\n",
      "4  91.0  53.0  40.0    26.527235  81.417538  5.386168  264.614870    0.0\n",
      "      N     P     K  temperature   humidity        ph    rainfall  label\n",
      "0  85.0  58.0  41.0    21.770462  80.319644  7.038096  226.655537    0.0\n",
      "1  60.0  55.0  44.0    23.004459  82.320763  7.840207  263.964248    0.0\n",
      "2  74.0  35.0  40.0    26.491096  80.158363  6.980401  242.864034    0.0\n",
      "3  69.0  37.0  42.0    23.058049  83.370118  7.073454  251.055000    0.0\n",
      "4  89.0  54.0  38.0    24.515881  83.535216  6.685346  230.446236    0.0\n"
     ]
    }
   ],
   "source": [
    "#initialize parameters\n",
    "train_test_ratio = 0.3\n",
    "lr = 0.01\n",
    "\n",
    "#get random indexes for dividing test and train data\n",
    "randomlist = random.sample(range(0, num_of_data), int(train_test_ratio*num_of_data))\n",
    "\n",
    "#initialize dataframes for test and training data\n",
    "df_train = pd.DataFrame({'N': [],\n",
    "                         'P': [],\n",
    "                         'K': [],\n",
    "                         'temperature': [],\n",
    "                         'humidity': [],\n",
    "                         'ph': [],\n",
    "                         'rainfall': [],\n",
    "                         'label': []\n",
    "                        })\n",
    "df_test = pd.DataFrame({'N': [],\n",
    "                         'P': [],\n",
    "                         'K': [],\n",
    "                         'temperature': [],\n",
    "                         'humidity': [],\n",
    "                         'ph': [],\n",
    "                         'rainfall': [],\n",
    "                         'label': []\n",
    "                        })\n",
    "\n",
    "#loop through the data and split it into train and test data\n",
    "i = 0\n",
    "for value in data.values:\n",
    "    #save to test data\n",
    "    if i in randomlist:\n",
    "        df_test.loc[len(df_test.index)] = value\n",
    "    #save to train data\n",
    "    else:\n",
    "        df_train.loc[len(df_train.index)] = value  \n",
    "    i += 1\n",
    "\n",
    "#save temporary train and test datasets to input folder\n",
    "df_train.to_csv('input/train.csv', index=False)\n",
    "df_test.to_csv('input/test.csv', index=False)\n",
    "\n",
    "print(\"df_test shape: \", df_test.shape)\n",
    "print(\"df_train shape: \", df_train.shape)\n",
    "print(df_test.head())\n",
    "print(df_train.head())"
   ]
  },
  {
   "cell_type": "code",
   "execution_count": 4,
   "id": "c6decc71",
   "metadata": {},
   "outputs": [
    {
     "name": "stdout",
     "output_type": "stream",
     "text": [
      "      0     1     2          3          4         5           6    7\n",
      "0  85.0  58.0  41.0  21.770462  80.319644  7.038096  226.655537  0.0\n",
      "1  60.0  55.0  44.0  23.004459  82.320763  7.840207  263.964248  0.0\n",
      "2  74.0  35.0  40.0  26.491096  80.158363  6.980401  242.864034  0.0\n",
      "3  69.0  37.0  42.0  23.058049  83.370118  7.073454  251.055000  0.0\n",
      "4  89.0  54.0  38.0  24.515881  83.535216  6.685346  230.446236  0.0\n",
      "      0     1     2          3          4         5           6    7\n",
      "0  90.0  42.0  43.0  20.879744  82.002744  6.502985  202.935536  0.0\n",
      "1  78.0  42.0  42.0  20.130175  81.604873  7.628473  262.717340  0.0\n",
      "2  69.0  55.0  38.0  22.708838  82.639414  5.700806  271.324860  0.0\n",
      "3  94.0  53.0  40.0  20.277744  82.894086  5.718627  241.974195  0.0\n",
      "4  91.0  53.0  40.0  26.527235  81.417538  5.386168  264.614870  0.0\n"
     ]
    }
   ],
   "source": [
    "#change column names to numbers\n",
    "for trains in df_train:\n",
    "    df_train.columns = list(range(len(df_train.columns))) \n",
    "for tests in df_test:\n",
    "    df_test.columns = list(range(len(df_test.columns)))\n",
    "    \n",
    "print(df_train.head())\n",
    "print(df_test.head())"
   ]
  },
  {
   "cell_type": "code",
   "execution_count": 5,
   "id": "90a3fa51",
   "metadata": {},
   "outputs": [
    {
     "name": "stdout",
     "output_type": "stream",
     "text": [
      "Shape of final dataset (2200, 8)\n",
      "<class 'pandas.core.frame.DataFrame'>\n",
      "RangeIndex: 2200 entries, 0 to 2199\n",
      "Data columns (total 8 columns):\n",
      " #   Column  Non-Null Count  Dtype  \n",
      "---  ------  --------------  -----  \n",
      " 0   0       2200 non-null   float64\n",
      " 1   1       2200 non-null   float64\n",
      " 2   2       2200 non-null   float64\n",
      " 3   3       2200 non-null   float64\n",
      " 4   4       2200 non-null   float64\n",
      " 5   5       2200 non-null   float64\n",
      " 6   6       2200 non-null   float64\n",
      " 7   7       2200 non-null   float64\n",
      "dtypes: float64(8)\n",
      "memory usage: 137.6 KB\n",
      "None\n",
      "       0     1     2          3          4         5           6     7\n",
      "0    3.0   9.0  35.0  26.916419  99.846716  6.318553  225.632366  18.0\n",
      "1  103.0  51.0  20.0  22.802131  84.146684  7.046607   91.638957  19.0\n",
      "2    0.0  29.0  32.0  28.059124  98.367098  5.868256  171.651640  18.0\n",
      "3    5.0  74.0  21.0  16.244692  21.357939  5.591704   66.970533   3.0\n",
      "4   86.0  79.0  45.0  27.812515  82.692854  5.807664   99.209615  10.0\n"
     ]
    }
   ],
   "source": [
    "#combine test and train datasets, suffle combined dataset and reset indexes\n",
    "dataset = pd.concat([df_train, df_test], axis=0).sample(frac=1.0, random_state =0).reset_index(drop=True)\n",
    "#display combined dataset\n",
    "print(\"Shape of final dataset\", dataset.shape)\n",
    "print(dataset.info())\n",
    "print(dataset.head())"
   ]
  },
  {
   "cell_type": "code",
   "execution_count": 6,
   "id": "98f56c18",
   "metadata": {},
   "outputs": [
    {
     "name": "stdout",
     "output_type": "stream",
     "text": [
      "size of X_train: (1540, 7)\n",
      "size of X_test: (660, 7)\n",
      "size of y_train: (1540,)\n",
      "size of y_test: (660,)\n"
     ]
    }
   ],
   "source": [
    "#splitting dataset to features and labels\n",
    "X = dataset.iloc[:,:-1].values #independent values / features (N, P, K, temperature, humidity, ph, rainfall)\n",
    "y = dataset.iloc[:,-1].values #dependent values / label (rice=0, maize=1, chickpea=2...)\n",
    "\n",
    "#splitting the datasets for training and testing process\n",
    "X_train, X_test, y_train, y_test = train_test_split(X, y, test_size = train_test_ratio)\n",
    "\n",
    "#display current shapes\n",
    "print('size of X_train:', X_train.shape)\n",
    "print('size of X_test:', X_test.shape)\n",
    "print('size of y_train:', y_train.shape)\n",
    "print('size of y_test:', y_test.shape)"
   ]
  },
  {
   "cell_type": "code",
   "execution_count": 7,
   "id": "58eca03b",
   "metadata": {},
   "outputs": [
    {
     "name": "stdout",
     "output_type": "stream",
     "text": [
      "X Train shape:  (1540, 7, 1)\n",
      "X Test shape:  (660, 7, 1)\n"
     ]
    }
   ],
   "source": [
    "#Reshape train and test data to (n_samples, 7, 1), where each sample is of size (7, 1)\n",
    "X_train = np.array(X_train).reshape(X_train.shape[0], X_train.shape[1], 1)\n",
    "X_test = np.array(X_test).reshape(X_test.shape[0], X_test.shape[1], 1)\n",
    "\n",
    "print(\"X Train shape: \", X_train.shape)\n",
    "print(\"X Test shape: \", X_test.shape)"
   ]
  },
  {
   "cell_type": "code",
   "execution_count": 8,
   "id": "5132e88a",
   "metadata": {},
   "outputs": [],
   "source": [
    "# Create sequential model \n",
    "cnn_model = tf.keras.models.Sequential()\n",
    "#First CNN layer  with 32 filters, conv window 3, relu activation and same padding\n",
    "cnn_model.add(Conv1D(filters=32, kernel_size=(3,), padding='same', activation=tf.keras.layers.LeakyReLU(alpha=lr), input_shape = (X_train.shape[1],1)))\n",
    "#Second CNN layer  with 64 filters, conv window 3, relu activation and same padding\n",
    "cnn_model.add(Conv1D(filters=64, kernel_size=(3,), padding='same', activation=tf.keras.layers.LeakyReLU(alpha=lr)))\n",
    "#Third CNN layer with 128 filters, conv window 3, relu activation and same padding\n",
    "cnn_model.add(Conv1D(filters=128, kernel_size=(3,), padding='same', activation=tf.keras.layers.LeakyReLU(alpha=lr)))\n",
    "#Fourth CNN layer with Max pooling\n",
    "cnn_model.add(MaxPool1D(pool_size=(3,), strides=2, padding='same'))\n",
    "cnn_model.add(Dropout(0.5))\n",
    "#Flatten the output\n",
    "cnn_model.add(Flatten())\n",
    "#Add a dense layer with 256 neurons\n",
    "cnn_model.add(Dense(units = 256, activation=tf.keras.layers.LeakyReLU(alpha=0.001)))\n",
    "#Add a dense layer with 512 neurons\n",
    "cnn_model.add(Dense(units = 512, activation=tf.keras.layers.LeakyReLU(alpha=0.001)))\n",
    "#Softmax as last layer with five outputs\n",
    "cnn_model.add(Dense(units = 22, activation='softmax'))"
   ]
  },
  {
   "cell_type": "code",
   "execution_count": 9,
   "id": "8c79e472",
   "metadata": {},
   "outputs": [
    {
     "name": "stdout",
     "output_type": "stream",
     "text": [
      "Model: \"sequential\"\n",
      "_________________________________________________________________\n",
      " Layer (type)                Output Shape              Param #   \n",
      "=================================================================\n",
      " conv1d (Conv1D)             (None, 7, 32)             128       \n",
      "                                                                 \n",
      " conv1d_1 (Conv1D)           (None, 7, 64)             6208      \n",
      "                                                                 \n",
      " conv1d_2 (Conv1D)           (None, 7, 128)            24704     \n",
      "                                                                 \n",
      " max_pooling1d (MaxPooling1D  (None, 4, 128)           0         \n",
      " )                                                               \n",
      "                                                                 \n",
      " dropout (Dropout)           (None, 4, 128)            0         \n",
      "                                                                 \n",
      " flatten (Flatten)           (None, 512)               0         \n",
      "                                                                 \n",
      " dense (Dense)               (None, 256)               131328    \n",
      "                                                                 \n",
      " dense_1 (Dense)             (None, 512)               131584    \n",
      "                                                                 \n",
      " dense_2 (Dense)             (None, 22)                11286     \n",
      "                                                                 \n",
      "=================================================================\n",
      "Total params: 305,238\n",
      "Trainable params: 305,238\n",
      "Non-trainable params: 0\n",
      "_________________________________________________________________\n"
     ]
    }
   ],
   "source": [
    "cnn_model.compile(optimizer='adam', loss = 'sparse_categorical_crossentropy', metrics=['accuracy'])\n",
    "cnn_model.summary()"
   ]
  },
  {
   "cell_type": "code",
   "execution_count": 10,
   "id": "bd83d772",
   "metadata": {},
   "outputs": [
    {
     "name": "stdout",
     "output_type": "stream",
     "text": [
      "Epoch 1/100\n",
      "62/62 [==============================] - 1s 7ms/step - loss: 2.2367 - accuracy: 0.3552 - val_loss: 0.6789 - val_accuracy: 0.7242\n",
      "Epoch 2/100\n",
      "62/62 [==============================] - 0s 3ms/step - loss: 0.7585 - accuracy: 0.7370 - val_loss: 0.3307 - val_accuracy: 0.8773\n",
      "Epoch 3/100\n",
      "62/62 [==============================] - 0s 3ms/step - loss: 0.4370 - accuracy: 0.8455 - val_loss: 0.2844 - val_accuracy: 0.8955\n",
      "Epoch 4/100\n",
      "62/62 [==============================] - 0s 3ms/step - loss: 0.3638 - accuracy: 0.8701 - val_loss: 0.2676 - val_accuracy: 0.8818\n",
      "Epoch 5/100\n",
      "62/62 [==============================] - 0s 3ms/step - loss: 0.3551 - accuracy: 0.8747 - val_loss: 0.1618 - val_accuracy: 0.9318\n",
      "Epoch 6/100\n",
      "62/62 [==============================] - 0s 3ms/step - loss: 0.2283 - accuracy: 0.9221 - val_loss: 0.1929 - val_accuracy: 0.9288\n",
      "Epoch 7/100\n",
      "62/62 [==============================] - 0s 3ms/step - loss: 0.2731 - accuracy: 0.9045 - val_loss: 0.3392 - val_accuracy: 0.8485\n",
      "Epoch 8/100\n",
      "62/62 [==============================] - 0s 3ms/step - loss: 0.2524 - accuracy: 0.9058 - val_loss: 0.2324 - val_accuracy: 0.9015\n",
      "Epoch 9/100\n",
      "62/62 [==============================] - 0s 3ms/step - loss: 0.2813 - accuracy: 0.9026 - val_loss: 0.1824 - val_accuracy: 0.9424\n",
      "Epoch 10/100\n",
      "62/62 [==============================] - 0s 3ms/step - loss: 0.2732 - accuracy: 0.9110 - val_loss: 0.1280 - val_accuracy: 0.9515\n",
      "Epoch 11/100\n",
      "62/62 [==============================] - 0s 3ms/step - loss: 0.2324 - accuracy: 0.9143 - val_loss: 0.1328 - val_accuracy: 0.9470\n",
      "Epoch 12/100\n",
      "62/62 [==============================] - 0s 3ms/step - loss: 0.1987 - accuracy: 0.9266 - val_loss: 0.1369 - val_accuracy: 0.9424\n",
      "Epoch 13/100\n",
      "62/62 [==============================] - 0s 3ms/step - loss: 0.1872 - accuracy: 0.9305 - val_loss: 0.1666 - val_accuracy: 0.9242\n",
      "Epoch 14/100\n",
      "62/62 [==============================] - 0s 3ms/step - loss: 0.1791 - accuracy: 0.9240 - val_loss: 0.1524 - val_accuracy: 0.9318\n",
      "Epoch 15/100\n",
      "62/62 [==============================] - 0s 3ms/step - loss: 0.1834 - accuracy: 0.9325 - val_loss: 0.1487 - val_accuracy: 0.9455\n",
      "Epoch 16/100\n",
      "62/62 [==============================] - 0s 3ms/step - loss: 0.1831 - accuracy: 0.9377 - val_loss: 0.2507 - val_accuracy: 0.9061\n",
      "Epoch 17/100\n",
      "62/62 [==============================] - 0s 3ms/step - loss: 0.1535 - accuracy: 0.9383 - val_loss: 0.1718 - val_accuracy: 0.9333\n",
      "Epoch 18/100\n",
      "62/62 [==============================] - 0s 3ms/step - loss: 0.1862 - accuracy: 0.9325 - val_loss: 0.1037 - val_accuracy: 0.9576\n",
      "Epoch 19/100\n",
      "62/62 [==============================] - 0s 3ms/step - loss: 0.1440 - accuracy: 0.9442 - val_loss: 0.1118 - val_accuracy: 0.9561\n",
      "Epoch 20/100\n",
      "62/62 [==============================] - 0s 3ms/step - loss: 0.1849 - accuracy: 0.9325 - val_loss: 0.1244 - val_accuracy: 0.9500\n",
      "Epoch 21/100\n",
      "62/62 [==============================] - 0s 3ms/step - loss: 0.1704 - accuracy: 0.9396 - val_loss: 0.1803 - val_accuracy: 0.9227\n",
      "Epoch 22/100\n",
      "62/62 [==============================] - 0s 3ms/step - loss: 0.1470 - accuracy: 0.9435 - val_loss: 0.1311 - val_accuracy: 0.9394\n",
      "Epoch 23/100\n",
      "62/62 [==============================] - 0s 3ms/step - loss: 0.1571 - accuracy: 0.9442 - val_loss: 0.1072 - val_accuracy: 0.9606\n",
      "Epoch 24/100\n",
      "62/62 [==============================] - 0s 3ms/step - loss: 0.1604 - accuracy: 0.9377 - val_loss: 0.1706 - val_accuracy: 0.9273\n",
      "Epoch 25/100\n",
      "62/62 [==============================] - 0s 3ms/step - loss: 0.1600 - accuracy: 0.9383 - val_loss: 0.1287 - val_accuracy: 0.9545\n",
      "Epoch 26/100\n",
      "62/62 [==============================] - 0s 3ms/step - loss: 0.1427 - accuracy: 0.9442 - val_loss: 0.1412 - val_accuracy: 0.9364\n",
      "Epoch 27/100\n",
      "62/62 [==============================] - 0s 3ms/step - loss: 0.1207 - accuracy: 0.9500 - val_loss: 0.1467 - val_accuracy: 0.9455\n",
      "Epoch 28/100\n",
      "62/62 [==============================] - 0s 3ms/step - loss: 0.1360 - accuracy: 0.9539 - val_loss: 0.1502 - val_accuracy: 0.9303\n",
      "Epoch 29/100\n",
      "62/62 [==============================] - 0s 3ms/step - loss: 0.1370 - accuracy: 0.9435 - val_loss: 0.1111 - val_accuracy: 0.9576\n",
      "Epoch 30/100\n",
      "62/62 [==============================] - 0s 3ms/step - loss: 0.1609 - accuracy: 0.9435 - val_loss: 0.1352 - val_accuracy: 0.9470\n",
      "Epoch 31/100\n",
      "62/62 [==============================] - 0s 3ms/step - loss: 0.1506 - accuracy: 0.9474 - val_loss: 0.1389 - val_accuracy: 0.9409\n",
      "Epoch 32/100\n",
      "62/62 [==============================] - 0s 3ms/step - loss: 0.1466 - accuracy: 0.9455 - val_loss: 0.1044 - val_accuracy: 0.9576\n",
      "Epoch 33/100\n",
      "62/62 [==============================] - 0s 3ms/step - loss: 0.1144 - accuracy: 0.9558 - val_loss: 0.1946 - val_accuracy: 0.9242\n",
      "Epoch 34/100\n",
      "62/62 [==============================] - 0s 3ms/step - loss: 0.1200 - accuracy: 0.9474 - val_loss: 0.1184 - val_accuracy: 0.9455\n",
      "Epoch 35/100\n",
      "62/62 [==============================] - 0s 3ms/step - loss: 0.1044 - accuracy: 0.9597 - val_loss: 0.1149 - val_accuracy: 0.9621\n",
      "Epoch 36/100\n",
      "62/62 [==============================] - 0s 3ms/step - loss: 0.1069 - accuracy: 0.9617 - val_loss: 0.1360 - val_accuracy: 0.9409\n",
      "Epoch 37/100\n",
      "62/62 [==============================] - 0s 3ms/step - loss: 0.1362 - accuracy: 0.9526 - val_loss: 0.1102 - val_accuracy: 0.9591\n",
      "Epoch 38/100\n",
      "62/62 [==============================] - 0s 3ms/step - loss: 0.1092 - accuracy: 0.9597 - val_loss: 0.1048 - val_accuracy: 0.9591\n",
      "Epoch 39/100\n",
      "62/62 [==============================] - 0s 3ms/step - loss: 0.1254 - accuracy: 0.9513 - val_loss: 0.1018 - val_accuracy: 0.9606\n",
      "Epoch 40/100\n",
      "62/62 [==============================] - 0s 3ms/step - loss: 0.1249 - accuracy: 0.9539 - val_loss: 0.1206 - val_accuracy: 0.9470\n",
      "Epoch 41/100\n",
      "62/62 [==============================] - 0s 3ms/step - loss: 0.1139 - accuracy: 0.9526 - val_loss: 0.0907 - val_accuracy: 0.9636\n",
      "Epoch 42/100\n",
      "62/62 [==============================] - 0s 3ms/step - loss: 0.1305 - accuracy: 0.9571 - val_loss: 0.1168 - val_accuracy: 0.9530\n",
      "Epoch 43/100\n",
      "62/62 [==============================] - 0s 3ms/step - loss: 0.1189 - accuracy: 0.9552 - val_loss: 0.1244 - val_accuracy: 0.9500\n",
      "Epoch 44/100\n",
      "62/62 [==============================] - 0s 3ms/step - loss: 0.1546 - accuracy: 0.9455 - val_loss: 0.1005 - val_accuracy: 0.9652\n",
      "Epoch 45/100\n",
      "62/62 [==============================] - 0s 3ms/step - loss: 0.0928 - accuracy: 0.9610 - val_loss: 0.2406 - val_accuracy: 0.9030\n",
      "Epoch 46/100\n",
      "62/62 [==============================] - 0s 3ms/step - loss: 0.1181 - accuracy: 0.9487 - val_loss: 0.0922 - val_accuracy: 0.9621\n",
      "Epoch 47/100\n",
      "62/62 [==============================] - 0s 3ms/step - loss: 0.1223 - accuracy: 0.9597 - val_loss: 0.1595 - val_accuracy: 0.9364\n",
      "Epoch 48/100\n",
      "62/62 [==============================] - 0s 3ms/step - loss: 0.1328 - accuracy: 0.9455 - val_loss: 0.1118 - val_accuracy: 0.9561\n",
      "Epoch 49/100\n",
      "62/62 [==============================] - 0s 3ms/step - loss: 0.1058 - accuracy: 0.9578 - val_loss: 0.1423 - val_accuracy: 0.9439\n",
      "Epoch 50/100\n",
      "62/62 [==============================] - 0s 3ms/step - loss: 0.1210 - accuracy: 0.9584 - val_loss: 0.0766 - val_accuracy: 0.9697\n",
      "Epoch 51/100\n",
      "62/62 [==============================] - 0s 3ms/step - loss: 0.1136 - accuracy: 0.9532 - val_loss: 0.0920 - val_accuracy: 0.9621\n",
      "Epoch 52/100\n",
      "62/62 [==============================] - 0s 3ms/step - loss: 0.1051 - accuracy: 0.9597 - val_loss: 0.0992 - val_accuracy: 0.9545\n",
      "Epoch 53/100\n",
      "62/62 [==============================] - 0s 3ms/step - loss: 0.0987 - accuracy: 0.9591 - val_loss: 0.1461 - val_accuracy: 0.9409\n",
      "Epoch 54/100\n",
      "62/62 [==============================] - 0s 3ms/step - loss: 0.0863 - accuracy: 0.9656 - val_loss: 0.1291 - val_accuracy: 0.9455\n",
      "Epoch 55/100\n",
      "62/62 [==============================] - 0s 3ms/step - loss: 0.1095 - accuracy: 0.9623 - val_loss: 0.0955 - val_accuracy: 0.9561\n",
      "Epoch 56/100\n",
      "62/62 [==============================] - 0s 3ms/step - loss: 0.0912 - accuracy: 0.9636 - val_loss: 0.0917 - val_accuracy: 0.9697\n",
      "Epoch 57/100\n",
      "62/62 [==============================] - 0s 3ms/step - loss: 0.1079 - accuracy: 0.9552 - val_loss: 0.0990 - val_accuracy: 0.9545\n",
      "Epoch 58/100\n",
      "62/62 [==============================] - 0s 3ms/step - loss: 0.1547 - accuracy: 0.9481 - val_loss: 0.0831 - val_accuracy: 0.9621\n"
     ]
    },
    {
     "name": "stdout",
     "output_type": "stream",
     "text": [
      "Epoch 59/100\n",
      "62/62 [==============================] - 0s 3ms/step - loss: 0.0874 - accuracy: 0.9649 - val_loss: 0.1702 - val_accuracy: 0.9561\n",
      "Epoch 60/100\n",
      "62/62 [==============================] - 0s 3ms/step - loss: 0.1340 - accuracy: 0.9494 - val_loss: 0.1023 - val_accuracy: 0.9606\n",
      "Epoch 61/100\n",
      "62/62 [==============================] - 0s 3ms/step - loss: 0.0901 - accuracy: 0.9656 - val_loss: 0.1131 - val_accuracy: 0.9667\n",
      "Epoch 62/100\n",
      "62/62 [==============================] - 0s 3ms/step - loss: 0.1016 - accuracy: 0.9636 - val_loss: 0.1514 - val_accuracy: 0.9530\n",
      "Epoch 63/100\n",
      "62/62 [==============================] - 0s 3ms/step - loss: 0.0859 - accuracy: 0.9578 - val_loss: 0.0918 - val_accuracy: 0.9561\n",
      "Epoch 64/100\n",
      "62/62 [==============================] - 0s 3ms/step - loss: 0.1064 - accuracy: 0.9597 - val_loss: 0.0996 - val_accuracy: 0.9636\n",
      "Epoch 65/100\n",
      "62/62 [==============================] - 0s 3ms/step - loss: 0.0995 - accuracy: 0.9571 - val_loss: 0.1075 - val_accuracy: 0.9561\n",
      "Epoch 66/100\n",
      "62/62 [==============================] - 0s 3ms/step - loss: 0.1243 - accuracy: 0.9494 - val_loss: 0.0812 - val_accuracy: 0.9652\n",
      "Epoch 67/100\n",
      "62/62 [==============================] - 0s 3ms/step - loss: 0.1097 - accuracy: 0.9545 - val_loss: 0.0962 - val_accuracy: 0.9621\n",
      "Epoch 68/100\n",
      "62/62 [==============================] - 0s 3ms/step - loss: 0.1053 - accuracy: 0.9591 - val_loss: 0.0992 - val_accuracy: 0.9591\n",
      "Epoch 69/100\n",
      "62/62 [==============================] - 0s 3ms/step - loss: 0.0782 - accuracy: 0.9662 - val_loss: 0.0914 - val_accuracy: 0.9621\n",
      "Epoch 70/100\n",
      "62/62 [==============================] - 0s 3ms/step - loss: 0.0929 - accuracy: 0.9669 - val_loss: 0.1168 - val_accuracy: 0.9545\n",
      "Epoch 71/100\n",
      "62/62 [==============================] - 0s 3ms/step - loss: 0.0987 - accuracy: 0.9610 - val_loss: 0.0938 - val_accuracy: 0.9591\n",
      "Epoch 72/100\n",
      "62/62 [==============================] - 0s 3ms/step - loss: 0.0906 - accuracy: 0.9656 - val_loss: 0.1131 - val_accuracy: 0.9530\n",
      "Epoch 73/100\n",
      "62/62 [==============================] - 0s 3ms/step - loss: 0.0836 - accuracy: 0.9675 - val_loss: 0.0817 - val_accuracy: 0.9652\n",
      "Epoch 74/100\n",
      "62/62 [==============================] - 0s 3ms/step - loss: 0.0948 - accuracy: 0.9643 - val_loss: 0.1260 - val_accuracy: 0.9394\n",
      "Epoch 75/100\n",
      "62/62 [==============================] - 0s 3ms/step - loss: 0.0803 - accuracy: 0.9701 - val_loss: 0.1134 - val_accuracy: 0.9561\n",
      "Epoch 76/100\n",
      "62/62 [==============================] - 0s 3ms/step - loss: 0.0976 - accuracy: 0.9636 - val_loss: 0.2287 - val_accuracy: 0.9258\n",
      "Epoch 77/100\n",
      "62/62 [==============================] - 0s 3ms/step - loss: 0.1267 - accuracy: 0.9474 - val_loss: 0.0824 - val_accuracy: 0.9606\n",
      "Epoch 78/100\n",
      "62/62 [==============================] - 0s 3ms/step - loss: 0.1046 - accuracy: 0.9617 - val_loss: 0.1462 - val_accuracy: 0.9485\n",
      "Epoch 79/100\n",
      "62/62 [==============================] - 0s 3ms/step - loss: 0.1126 - accuracy: 0.9591 - val_loss: 0.1741 - val_accuracy: 0.9394\n",
      "Epoch 80/100\n",
      "62/62 [==============================] - 0s 3ms/step - loss: 0.1884 - accuracy: 0.9403 - val_loss: 0.2258 - val_accuracy: 0.9364\n",
      "Epoch 81/100\n",
      "62/62 [==============================] - 0s 3ms/step - loss: 0.1131 - accuracy: 0.9623 - val_loss: 0.1023 - val_accuracy: 0.9606\n",
      "Epoch 82/100\n",
      "62/62 [==============================] - 0s 3ms/step - loss: 0.0895 - accuracy: 0.9636 - val_loss: 0.1009 - val_accuracy: 0.9621\n",
      "Epoch 83/100\n",
      "62/62 [==============================] - 0s 3ms/step - loss: 0.1019 - accuracy: 0.9643 - val_loss: 0.1227 - val_accuracy: 0.9530\n",
      "Epoch 84/100\n",
      "62/62 [==============================] - 0s 3ms/step - loss: 0.0751 - accuracy: 0.9727 - val_loss: 0.1014 - val_accuracy: 0.9576\n",
      "Epoch 85/100\n",
      "62/62 [==============================] - 0s 3ms/step - loss: 0.0871 - accuracy: 0.9682 - val_loss: 0.1090 - val_accuracy: 0.9561\n",
      "Epoch 86/100\n",
      "62/62 [==============================] - 0s 3ms/step - loss: 0.0964 - accuracy: 0.9610 - val_loss: 0.1250 - val_accuracy: 0.9470\n",
      "Epoch 87/100\n",
      "62/62 [==============================] - 0s 3ms/step - loss: 0.0805 - accuracy: 0.9708 - val_loss: 0.1409 - val_accuracy: 0.9621\n",
      "Epoch 88/100\n",
      "62/62 [==============================] - 0s 3ms/step - loss: 0.0851 - accuracy: 0.9682 - val_loss: 0.0967 - val_accuracy: 0.9727\n",
      "Epoch 89/100\n",
      "62/62 [==============================] - 0s 3ms/step - loss: 0.0810 - accuracy: 0.9695 - val_loss: 0.0840 - val_accuracy: 0.9712\n",
      "Epoch 90/100\n",
      "62/62 [==============================] - 0s 3ms/step - loss: 0.0846 - accuracy: 0.9682 - val_loss: 0.1082 - val_accuracy: 0.9591\n",
      "Epoch 91/100\n",
      "62/62 [==============================] - 0s 3ms/step - loss: 0.0946 - accuracy: 0.9662 - val_loss: 0.1309 - val_accuracy: 0.9561\n",
      "Epoch 92/100\n",
      "62/62 [==============================] - 0s 3ms/step - loss: 0.1043 - accuracy: 0.9604 - val_loss: 0.0940 - val_accuracy: 0.9652\n",
      "Epoch 93/100\n",
      "62/62 [==============================] - 0s 3ms/step - loss: 0.0717 - accuracy: 0.9682 - val_loss: 0.1070 - val_accuracy: 0.9545\n",
      "Epoch 94/100\n",
      "62/62 [==============================] - 0s 3ms/step - loss: 0.0707 - accuracy: 0.9753 - val_loss: 0.1238 - val_accuracy: 0.9576\n",
      "Epoch 95/100\n",
      "62/62 [==============================] - 0s 3ms/step - loss: 0.0954 - accuracy: 0.9675 - val_loss: 0.1147 - val_accuracy: 0.9561\n",
      "Epoch 96/100\n",
      "62/62 [==============================] - 0s 3ms/step - loss: 0.1125 - accuracy: 0.9643 - val_loss: 0.0898 - val_accuracy: 0.9636\n",
      "Epoch 97/100\n",
      "62/62 [==============================] - 0s 3ms/step - loss: 0.0689 - accuracy: 0.9688 - val_loss: 0.0996 - val_accuracy: 0.9591\n",
      "Epoch 98/100\n",
      "62/62 [==============================] - 0s 3ms/step - loss: 0.0784 - accuracy: 0.9714 - val_loss: 0.1087 - val_accuracy: 0.9515\n",
      "Epoch 99/100\n",
      "62/62 [==============================] - 0s 3ms/step - loss: 0.0872 - accuracy: 0.9682 - val_loss: 0.1107 - val_accuracy: 0.9606\n",
      "Epoch 100/100\n",
      "62/62 [==============================] - 0s 3ms/step - loss: 0.0770 - accuracy: 0.9695 - val_loss: 0.0909 - val_accuracy: 0.9712\n"
     ]
    }
   ],
   "source": [
    "cnn_model_history = cnn_model.fit(X_train, y_train, epochs=100, batch_size = 25, validation_data = (X_test, y_test))"
   ]
  },
  {
   "cell_type": "code",
   "execution_count": 11,
   "id": "28e56ccc",
   "metadata": {},
   "outputs": [
    {
     "data": {
      "text/plain": [
       "Text(0, 0.5, 'Accuracy')"
      ]
     },
     "execution_count": 11,
     "metadata": {},
     "output_type": "execute_result"
    },
    {
     "data": {
      "image/png": "[encoded data removed]",
      "text/plain": [
       "<Figure size 432x288 with 1 Axes>"
      ]
     },
     "metadata": {
      "needs_background": "light"
     },
     "output_type": "display_data"
    }
   ],
   "source": [
    "#display accuracy\n",
    "plt.plot(cnn_model_history.history['accuracy'])\n",
    "plt.plot(cnn_model_history.history['val_accuracy'])\n",
    "plt.ylim(0.2, 1)\n",
    "plt.legend([\"accuracy\",\"val_accuracy\"])\n",
    "plt.title('Accuracy Vs Val_Accuracy')\n",
    "plt.xlabel('Epoch')\n",
    "plt.ylabel('Accuracy')"
   ]
  },
  {
   "cell_type": "code",
   "execution_count": 12,
   "id": "a82446eb",
   "metadata": {},
   "outputs": [
    {
     "data": {
      "text/plain": [
       "Text(0, 0.5, 'Loss')"
      ]
     },
     "execution_count": 12,
     "metadata": {},
     "output_type": "execute_result"
    },
    {
     "data": {
      "image/png": "[encoded data removed]",
      "text/plain": [
       "<Figure size 432x288 with 1 Axes>"
      ]
     },
     "metadata": {
      "needs_background": "light"
     },
     "output_type": "display_data"
    }
   ],
   "source": [
    "#display loss\n",
    "plt.plot(cnn_model_history.history['loss'])\n",
    "plt.plot(cnn_model_history.history['val_loss'])\n",
    "plt.legend([\"loss\",\"val_loss\"])\n",
    "plt.title('Loss Vs Val_loss')\n",
    "plt.xlabel('Epoch')\n",
    "plt.ylabel('Loss')"
   ]
  },
  {
   "cell_type": "code",
   "execution_count": null,
   "id": "0760ee50",
   "metadata": {},
   "outputs": [],
   "source": []
  }
 ],
 "metadata": {
  "kernelspec": {
   "display_name": "Python 3 (ipykernel)",
   "language": "python",
   "name": "python3"
  },
  "language_info": {
   "codemirror_mode": {
    "name": "ipython",
    "version": 3
   },
   "file_extension": ".py",
   "mimetype": "text/x-python",
   "name": "python",
   "nbconvert_exporter": "python",
   "pygments_lexer": "ipython3",
   "version": "3.10.1"
  }
 },
 "nbformat": 4,
 "nbformat_minor": 5
}
