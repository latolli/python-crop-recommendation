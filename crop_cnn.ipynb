{
 "cells": [
  {
   "cell_type": "code",
   "execution_count": 1,
   "id": "874445ec",
   "metadata": {},
   "outputs": [],
   "source": [
    "#1 dimensional CNN for predicting optimal crops based on soil data (N, P, K, temperature, humidity, ph, rainfall)\n",
    "\n",
    "#model implemented based on this example\n",
    "#https://www.analyticsvidhya.com/blog/2021/07/convolution-neural-network-the-base-for-many-deep-learning-algorithms-cnn-illustrated-by-1-d-ecg-signal-physionet/\n",
    "\n",
    "#import libraries\n",
    "import numpy as np\n",
    "import pandas as pd\n",
    "import matplotlib.pyplot as plt\n",
    "import random\n",
    "import tensorflow as tf\n",
    "#import some functions for splitting data and constructing CNN model\n",
    "from sklearn.model_selection import train_test_split\n",
    "from tensorflow.keras.layers import Flatten, Dense, Conv1D, MaxPool1D, Dropout"
   ]
  },
  {
   "cell_type": "code",
   "execution_count": 2,
   "id": "4a389b9a",
   "metadata": {},
   "outputs": [
    {
     "name": "stdout",
     "output_type": "stream",
     "text": [
      "Original data: \n",
      "     N   P   K  temperature   humidity        ph    rainfall label\n",
      "0  90  42  43    20.879744  82.002744  6.502985  202.935536  rice\n",
      "1  85  58  41    21.770462  80.319644  7.038096  226.655537  rice\n",
      "2  60  55  44    23.004459  82.320763  7.840207  263.964248  rice\n",
      "3  74  35  40    26.491096  80.158363  6.980401  242.864034  rice\n",
      "4  78  42  42    20.130175  81.604873  7.628473  262.717340  rice\n",
      "Data after modifying labels: \n",
      "     N   P   K  temperature   humidity        ph    rainfall label\n",
      "0  90  42  43    20.879744  82.002744  6.502985  202.935536     0\n",
      "1  85  58  41    21.770462  80.319644  7.038096  226.655537     0\n",
      "2  60  55  44    23.004459  82.320763  7.840207  263.964248     0\n",
      "3  74  35  40    26.491096  80.158363  6.980401  242.864034     0\n",
      "4  78  42  42    20.130175  81.604873  7.628473  262.717340     0\n"
     ]
    }
   ],
   "source": [
    "#load data from input folder\n",
    "data = pd.read_csv('input/Crop_recommendation.csv')\n",
    "num_of_data = len(data)\n",
    "\n",
    "print(\"Original data: \\n\", data.head())\n",
    "\n",
    "#convert label strings to numbers (rice=0, maize=1, chickpea=2...)\n",
    "for row in range(num_of_data):\n",
    "    if data.at[row, 'label'] == 'rice':\n",
    "        data.at[row, 'label'] = 0\n",
    "    elif data.at[row, 'label'] == 'maize':\n",
    "        data.at[row, 'label'] = 1\n",
    "    elif data.at[row, 'label'] == 'chickpea':\n",
    "        data.at[row, 'label'] = 2\n",
    "    elif data.at[row, 'label'] == 'kidneybeans':\n",
    "        data.at[row, 'label'] = 3\n",
    "    elif data.at[row, 'label'] == 'pigeonpeas':\n",
    "        data.at[row, 'label'] = 4\n",
    "    elif data.at[row, 'label'] == 'mothbeans':\n",
    "        data.at[row, 'label'] = 5\n",
    "    elif data.at[row, 'label'] == 'mungbean':\n",
    "        data.at[row, 'label'] = 6\n",
    "    elif data.at[row, 'label'] == 'blackgram':\n",
    "        data.at[row, 'label'] = 7\n",
    "    elif data.at[row, 'label'] == 'lentil':\n",
    "        data.at[row, 'label'] = 8\n",
    "    elif data.at[row, 'label'] == 'pomegranate':\n",
    "        data.at[row, 'label'] = 9\n",
    "    elif data.at[row, 'label'] == 'banana':\n",
    "        data.at[row, 'label'] = 10\n",
    "    elif data.at[row, 'label'] == 'mango':\n",
    "        data.at[row, 'label'] = 11\n",
    "    elif data.at[row, 'label'] == 'grapes':\n",
    "        data.at[row, 'label'] = 12\n",
    "    elif data.at[row, 'label'] == 'watermelon':\n",
    "        data.at[row, 'label'] = 13\n",
    "    elif data.at[row, 'label'] == 'muskmelon':\n",
    "        data.at[row, 'label'] = 14\n",
    "    elif data.at[row, 'label'] == 'apple':\n",
    "        data.at[row, 'label'] = 15\n",
    "    elif data.at[row, 'label'] == 'orange':\n",
    "        data.at[row, 'label'] = 16\n",
    "    elif data.at[row, 'label'] == 'papaya':\n",
    "        data.at[row, 'label'] = 17\n",
    "    elif data.at[row, 'label'] == 'coconut':\n",
    "        data.at[row, 'label'] = 18\n",
    "    elif data.at[row, 'label'] == 'cotton':\n",
    "        data.at[row, 'label'] = 19\n",
    "    elif data.at[row, 'label'] == 'jute':\n",
    "        data.at[row, 'label'] = 20\n",
    "    elif data.at[row, 'label'] == 'coffee':\n",
    "        data.at[row, 'label'] = 21\n",
    "        \n",
    "print(\"Data after modifying labels: \\n\", data.head())"
   ]
  },
  {
   "cell_type": "code",
   "execution_count": 7,
   "id": "fd33de26",
   "metadata": {},
   "outputs": [
    {
     "name": "stdout",
     "output_type": "stream",
     "text": [
      "df_test shape:  (660, 8)\n",
      "df_train shape:  (1540, 8)\n",
      "      N     P     K  temperature   humidity        ph    rainfall  label\n",
      "0  85.0  58.0  41.0    21.770462  80.319644  7.038096  226.655537    0.0\n",
      "1  74.0  35.0  40.0    26.491096  80.158363  6.980401  242.864034    0.0\n",
      "2  94.0  53.0  40.0    20.277744  82.894086  5.718627  241.974195    0.0\n",
      "3  68.0  58.0  38.0    23.223974  83.033227  6.336254  221.209196    0.0\n",
      "4  90.0  46.0  42.0    23.978982  81.450616  7.502834  250.083234    0.0\n",
      "      N     P     K  temperature   humidity        ph    rainfall  label\n",
      "0  90.0  42.0  43.0    20.879744  82.002744  6.502985  202.935536    0.0\n",
      "1  60.0  55.0  44.0    23.004459  82.320763  7.840207  263.964248    0.0\n",
      "2  78.0  42.0  42.0    20.130175  81.604873  7.628473  262.717340    0.0\n",
      "3  69.0  37.0  42.0    23.058049  83.370118  7.073454  251.055000    0.0\n",
      "4  69.0  55.0  38.0    22.708838  82.639414  5.700806  271.324860    0.0\n"
     ]
    }
   ],
   "source": [
    "#initialize parameters\n",
    "train_test_ratio = 0.3\n",
    "\n",
    "#get random indexes for dividing test and train data\n",
    "randomlist = random.sample(range(0, num_of_data), int(train_test_ratio*num_of_data))\n",
    "\n",
    "#initialize dataframes for test and training data\n",
    "df_train = pd.DataFrame({'N': [],\n",
    "                         'P': [],\n",
    "                         'K': [],\n",
    "                         'temperature': [],\n",
    "                         'humidity': [],\n",
    "                         'ph': [],\n",
    "                         'rainfall': [],\n",
    "                         'label': []\n",
    "                        })\n",
    "df_test = pd.DataFrame({'N': [],\n",
    "                         'P': [],\n",
    "                         'K': [],\n",
    "                         'temperature': [],\n",
    "                         'humidity': [],\n",
    "                         'ph': [],\n",
    "                         'rainfall': [],\n",
    "                         'label': []\n",
    "                        })\n",
    "\n",
    "#loop through the data and split it into train and test data\n",
    "i = 0\n",
    "for value in data.values:\n",
    "    #save to test data\n",
    "    if i in randomlist:\n",
    "        df_test.loc[len(df_test.index)] = value\n",
    "    #save to train data\n",
    "    else:\n",
    "        df_train.loc[len(df_train.index)] = value  \n",
    "    i += 1\n",
    "\n",
    "#save temporary train and test datasets to input folder\n",
    "df_train.to_csv('input/train.csv', index=False)\n",
    "df_test.to_csv('input/test.csv', index=False)\n",
    "\n",
    "print(\"df_test shape: \", df_test.shape)\n",
    "print(\"df_train shape: \", df_train.shape)\n",
    "print(df_test.head())\n",
    "print(df_train.head())"
   ]
  },
  {
   "cell_type": "code",
   "execution_count": 8,
   "id": "c6decc71",
   "metadata": {},
   "outputs": [
    {
     "name": "stdout",
     "output_type": "stream",
     "text": [
      "      0     1     2          3          4         5           6    7\n",
      "0  90.0  42.0  43.0  20.879744  82.002744  6.502985  202.935536  0.0\n",
      "1  60.0  55.0  44.0  23.004459  82.320763  7.840207  263.964248  0.0\n",
      "2  78.0  42.0  42.0  20.130175  81.604873  7.628473  262.717340  0.0\n",
      "3  69.0  37.0  42.0  23.058049  83.370118  7.073454  251.055000  0.0\n",
      "4  69.0  55.0  38.0  22.708838  82.639414  5.700806  271.324860  0.0\n",
      "      0     1     2          3          4         5           6    7\n",
      "0  85.0  58.0  41.0  21.770462  80.319644  7.038096  226.655537  0.0\n",
      "1  74.0  35.0  40.0  26.491096  80.158363  6.980401  242.864034  0.0\n",
      "2  94.0  53.0  40.0  20.277744  82.894086  5.718627  241.974195  0.0\n",
      "3  68.0  58.0  38.0  23.223974  83.033227  6.336254  221.209196  0.0\n",
      "4  90.0  46.0  42.0  23.978982  81.450616  7.502834  250.083234  0.0\n"
     ]
    }
   ],
   "source": [
    "#change column names to numbers\n",
    "for trains in df_train:\n",
    "    df_train.columns = list(range(len(df_train.columns))) \n",
    "for tests in df_test:\n",
    "    df_test.columns = list(range(len(df_test.columns)))\n",
    "    \n",
    "print(df_train.head())\n",
    "print(df_test.head())"
   ]
  },
  {
   "cell_type": "code",
   "execution_count": 9,
   "id": "90a3fa51",
   "metadata": {},
   "outputs": [
    {
     "name": "stdout",
     "output_type": "stream",
     "text": [
      "Shape of final dataset (2200, 8)\n",
      "<class 'pandas.core.frame.DataFrame'>\n",
      "RangeIndex: 2200 entries, 0 to 2199\n",
      "Data columns (total 8 columns):\n",
      " #   Column  Non-Null Count  Dtype  \n",
      "---  ------  --------------  -----  \n",
      " 0   0       2200 non-null   float64\n",
      " 1   1       2200 non-null   float64\n",
      " 2   2       2200 non-null   float64\n",
      " 3   3       2200 non-null   float64\n",
      " 4   4       2200 non-null   float64\n",
      " 5   5       2200 non-null   float64\n",
      " 6   6       2200 non-null   float64\n",
      " 7   7       2200 non-null   float64\n",
      "dtypes: float64(8)\n",
      "memory usage: 137.6 KB\n",
      "None\n",
      "       0     1     2          3          4         5           6     7\n",
      "0   27.0   8.0  30.0  26.446001  98.299378  6.008386  221.225817  18.0\n",
      "1  112.0  49.0  25.0  25.689595  77.906210  6.470135   66.194268  19.0\n",
      "2   14.0  23.0  25.0  26.185524  96.966379  5.612123  135.418622  18.0\n",
      "3   34.0  66.0  17.0  18.810973  21.278330  5.889615  125.084915   3.0\n",
      "4  102.0  73.0  54.0  26.402023  84.410076  5.720727  111.016226  10.0\n"
     ]
    }
   ],
   "source": [
    "#combine test and train datasets, suffle combined dataset and reset indexes\n",
    "dataset = pd.concat([df_train, df_test], axis=0).sample(frac=1.0, random_state =0).reset_index(drop=True)\n",
    "#display combined dataset\n",
    "print(\"Shape of final dataset\", dataset.shape)\n",
    "print(dataset.info())\n",
    "print(dataset.head())"
   ]
  },
  {
   "cell_type": "code",
   "execution_count": 24,
   "id": "98f56c18",
   "metadata": {},
   "outputs": [
    {
     "name": "stdout",
     "output_type": "stream",
     "text": [
      "size of X_train: (1540, 7)\n",
      "size of X_test: (660, 7)\n",
      "size of y_train: (1540,)\n",
      "size of y_test: (660,)\n"
     ]
    }
   ],
   "source": [
    "#splitting dataset to features and labels\n",
    "X = dataset.iloc[:,:-1].values #independent values / features (N, P, K, temperature, humidity, ph, rainfall)\n",
    "y = dataset.iloc[:,-1].values #dependent values / label (rice=0, maize=1, chickpea=2...)\n",
    "\n",
    "#splitting the datasets for training and testing process\n",
    "X_train, X_test, y_train, y_test = train_test_split(X, y, test_size = train_test_ratio)\n",
    "\n",
    "#display current shapes\n",
    "print('size of X_train:', X_train.shape)\n",
    "print('size of X_test:', X_test.shape)\n",
    "print('size of y_train:', y_train.shape)\n",
    "print('size of y_test:', y_test.shape)"
   ]
  },
  {
   "cell_type": "code",
   "execution_count": 25,
   "id": "58eca03b",
   "metadata": {},
   "outputs": [
    {
     "name": "stdout",
     "output_type": "stream",
     "text": [
      "X Train shape:  (1540, 7, 1)\n",
      "X Test shape:  (660, 7, 1)\n"
     ]
    }
   ],
   "source": [
    "#Reshape train and test data to (n_samples, 7, 1), where each sample is of size (7, 1)\n",
    "X_train = np.array(X_train).reshape(X_train.shape[0], X_train.shape[1], 1)\n",
    "X_test = np.array(X_test).reshape(X_test.shape[0], X_test.shape[1], 1)\n",
    "\n",
    "print(\"X Train shape: \", X_train.shape)\n",
    "print(\"X Test shape: \", X_test.shape)"
   ]
  },
  {
   "cell_type": "code",
   "execution_count": 26,
   "id": "5132e88a",
   "metadata": {},
   "outputs": [],
   "source": [
    "#learning rate\n",
    "lr = 0.01\n",
    "# Create sequential model \n",
    "cnn_model = tf.keras.models.Sequential()\n",
    "#First CNN layer  with 32 filters, conv window 3, relu activation and same padding\n",
    "cnn_model.add(Conv1D(filters=32, kernel_size=(3,), padding='same', activation=tf.keras.layers.LeakyReLU(alpha=lr), input_shape = (X_train.shape[1],1)))\n",
    "#Second CNN layer  with 64 filters, conv window 3, relu activation and same padding\n",
    "cnn_model.add(Conv1D(filters=64, kernel_size=(3,), padding='same', activation=tf.keras.layers.LeakyReLU(alpha=lr)))\n",
    "#Third CNN layer with 128 filters, conv window 3, relu activation and same padding\n",
    "cnn_model.add(Conv1D(filters=128, kernel_size=(3,), padding='same', activation=tf.keras.layers.LeakyReLU(alpha=lr)))\n",
    "#Fourth CNN layer with Max pooling\n",
    "cnn_model.add(MaxPool1D(pool_size=(3,), strides=2, padding='same'))\n",
    "cnn_model.add(Dropout(0.25))\n",
    "#Flatten the output\n",
    "cnn_model.add(Flatten())\n",
    "#Add a dense layer with 256 neurons\n",
    "cnn_model.add(Dense(units = 256, activation=tf.keras.layers.LeakyReLU(alpha=lr)))\n",
    "#Add a dense layer with 512 neurons\n",
    "cnn_model.add(Dense(units = 512, activation=tf.keras.layers.LeakyReLU(alpha=lr)))\n",
    "#Softmax as last layer with five outputs\n",
    "cnn_model.add(Dense(units = 22, activation='softmax'))"
   ]
  },
  {
   "cell_type": "code",
   "execution_count": 27,
   "id": "8c79e472",
   "metadata": {},
   "outputs": [
    {
     "name": "stdout",
     "output_type": "stream",
     "text": [
      "Model: \"sequential_3\"\n",
      "_________________________________________________________________\n",
      " Layer (type)                Output Shape              Param #   \n",
      "=================================================================\n",
      " conv1d_9 (Conv1D)           (None, 7, 32)             128       \n",
      "                                                                 \n",
      " conv1d_10 (Conv1D)          (None, 7, 64)             6208      \n",
      "                                                                 \n",
      " conv1d_11 (Conv1D)          (None, 7, 128)            24704     \n",
      "                                                                 \n",
      " max_pooling1d_3 (MaxPooling  (None, 4, 128)           0         \n",
      " 1D)                                                             \n",
      "                                                                 \n",
      " dropout_3 (Dropout)         (None, 4, 128)            0         \n",
      "                                                                 \n",
      " flatten_3 (Flatten)         (None, 512)               0         \n",
      "                                                                 \n",
      " dense_9 (Dense)             (None, 256)               131328    \n",
      "                                                                 \n",
      " dense_10 (Dense)            (None, 512)               131584    \n",
      "                                                                 \n",
      " dense_11 (Dense)            (None, 22)                11286     \n",
      "                                                                 \n",
      "=================================================================\n",
      "Total params: 305,238\n",
      "Trainable params: 305,238\n",
      "Non-trainable params: 0\n",
      "_________________________________________________________________\n"
     ]
    }
   ],
   "source": [
    "cnn_model.compile(optimizer='adam', loss = 'sparse_categorical_crossentropy', metrics=['accuracy'])\n",
    "cnn_model.summary()"
   ]
  },
  {
   "cell_type": "code",
   "execution_count": 28,
   "id": "bd83d772",
   "metadata": {},
   "outputs": [
    {
     "name": "stdout",
     "output_type": "stream",
     "text": [
      "Epoch 1/100\n",
      "62/62 [==============================] - 1s 5ms/step - loss: 1.7619 - accuracy: 0.4987 - val_loss: 0.6959 - val_accuracy: 0.7000\n",
      "Epoch 2/100\n",
      "62/62 [==============================] - 0s 3ms/step - loss: 0.5033 - accuracy: 0.8149 - val_loss: 0.4409 - val_accuracy: 0.8561\n",
      "Epoch 3/100\n",
      "62/62 [==============================] - 0s 3ms/step - loss: 0.3564 - accuracy: 0.8747 - val_loss: 0.4155 - val_accuracy: 0.8833\n",
      "Epoch 4/100\n",
      "62/62 [==============================] - 0s 3ms/step - loss: 0.2950 - accuracy: 0.8974 - val_loss: 0.2168 - val_accuracy: 0.9136\n",
      "Epoch 5/100\n",
      "62/62 [==============================] - 0s 3ms/step - loss: 0.1966 - accuracy: 0.9266 - val_loss: 0.3809 - val_accuracy: 0.8909\n",
      "Epoch 6/100\n",
      "62/62 [==============================] - 0s 3ms/step - loss: 0.2156 - accuracy: 0.9266 - val_loss: 0.1525 - val_accuracy: 0.9485\n",
      "Epoch 7/100\n",
      "62/62 [==============================] - 0s 3ms/step - loss: 0.1777 - accuracy: 0.9312 - val_loss: 0.2197 - val_accuracy: 0.9015\n",
      "Epoch 8/100\n",
      "62/62 [==============================] - 0s 3ms/step - loss: 0.1766 - accuracy: 0.9357 - val_loss: 0.1363 - val_accuracy: 0.9439\n",
      "Epoch 9/100\n",
      "62/62 [==============================] - 0s 3ms/step - loss: 0.1874 - accuracy: 0.9351 - val_loss: 0.2179 - val_accuracy: 0.9303\n",
      "Epoch 10/100\n",
      "62/62 [==============================] - 0s 3ms/step - loss: 0.1617 - accuracy: 0.9390 - val_loss: 0.1741 - val_accuracy: 0.9364\n",
      "Epoch 11/100\n",
      "62/62 [==============================] - 0s 3ms/step - loss: 0.2012 - accuracy: 0.9351 - val_loss: 0.1573 - val_accuracy: 0.9318\n",
      "Epoch 12/100\n",
      "62/62 [==============================] - 0s 3ms/step - loss: 0.1366 - accuracy: 0.9468 - val_loss: 0.1940 - val_accuracy: 0.9439\n",
      "Epoch 13/100\n",
      "62/62 [==============================] - 0s 3ms/step - loss: 0.1881 - accuracy: 0.9338 - val_loss: 0.2069 - val_accuracy: 0.9242\n",
      "Epoch 14/100\n",
      "62/62 [==============================] - 0s 3ms/step - loss: 0.1190 - accuracy: 0.9578 - val_loss: 0.1142 - val_accuracy: 0.9530\n",
      "Epoch 15/100\n",
      "62/62 [==============================] - 0s 3ms/step - loss: 0.1327 - accuracy: 0.9429 - val_loss: 0.1434 - val_accuracy: 0.9424\n",
      "Epoch 16/100\n",
      "62/62 [==============================] - 0s 3ms/step - loss: 0.1231 - accuracy: 0.9506 - val_loss: 0.1065 - val_accuracy: 0.9576\n",
      "Epoch 17/100\n",
      "62/62 [==============================] - 0s 3ms/step - loss: 0.1422 - accuracy: 0.9422 - val_loss: 0.1504 - val_accuracy: 0.9485\n",
      "Epoch 18/100\n",
      "62/62 [==============================] - 0s 3ms/step - loss: 0.1072 - accuracy: 0.9584 - val_loss: 0.1293 - val_accuracy: 0.9515\n",
      "Epoch 19/100\n",
      "62/62 [==============================] - 0s 3ms/step - loss: 0.1201 - accuracy: 0.9526 - val_loss: 0.2204 - val_accuracy: 0.9273\n",
      "Epoch 20/100\n",
      "62/62 [==============================] - 0s 3ms/step - loss: 0.1325 - accuracy: 0.9519 - val_loss: 0.1832 - val_accuracy: 0.9379\n",
      "Epoch 21/100\n",
      "62/62 [==============================] - 0s 3ms/step - loss: 0.1842 - accuracy: 0.9416 - val_loss: 0.1348 - val_accuracy: 0.9424\n",
      "Epoch 22/100\n",
      "62/62 [==============================] - 0s 3ms/step - loss: 0.1336 - accuracy: 0.9474 - val_loss: 0.1256 - val_accuracy: 0.9470\n",
      "Epoch 23/100\n",
      "62/62 [==============================] - 0s 3ms/step - loss: 0.1262 - accuracy: 0.9506 - val_loss: 0.1382 - val_accuracy: 0.9455\n",
      "Epoch 24/100\n",
      "62/62 [==============================] - 0s 3ms/step - loss: 0.1058 - accuracy: 0.9558 - val_loss: 0.1405 - val_accuracy: 0.9576\n",
      "Epoch 25/100\n",
      "62/62 [==============================] - 0s 3ms/step - loss: 0.0986 - accuracy: 0.9636 - val_loss: 0.1422 - val_accuracy: 0.9455\n",
      "Epoch 26/100\n",
      "62/62 [==============================] - 0s 3ms/step - loss: 0.1071 - accuracy: 0.9604 - val_loss: 0.1276 - val_accuracy: 0.9515\n",
      "Epoch 27/100\n",
      "62/62 [==============================] - 0s 3ms/step - loss: 0.0981 - accuracy: 0.9604 - val_loss: 0.1650 - val_accuracy: 0.9439\n",
      "Epoch 28/100\n",
      "62/62 [==============================] - 0s 3ms/step - loss: 0.1242 - accuracy: 0.9513 - val_loss: 0.1480 - val_accuracy: 0.9439\n",
      "Epoch 29/100\n",
      "62/62 [==============================] - 0s 3ms/step - loss: 0.0958 - accuracy: 0.9662 - val_loss: 0.1504 - val_accuracy: 0.9500\n",
      "Epoch 30/100\n",
      "62/62 [==============================] - 0s 3ms/step - loss: 0.1055 - accuracy: 0.9610 - val_loss: 0.1351 - val_accuracy: 0.9500\n",
      "Epoch 31/100\n",
      "62/62 [==============================] - 0s 3ms/step - loss: 0.1081 - accuracy: 0.9506 - val_loss: 0.1340 - val_accuracy: 0.9515\n",
      "Epoch 32/100\n",
      "62/62 [==============================] - 0s 3ms/step - loss: 0.1044 - accuracy: 0.9552 - val_loss: 0.2253 - val_accuracy: 0.9394\n",
      "Epoch 33/100\n",
      "62/62 [==============================] - 0s 3ms/step - loss: 0.0964 - accuracy: 0.9688 - val_loss: 0.1030 - val_accuracy: 0.9561\n",
      "Epoch 34/100\n",
      "62/62 [==============================] - 0s 3ms/step - loss: 0.0946 - accuracy: 0.9669 - val_loss: 0.1079 - val_accuracy: 0.9576\n",
      "Epoch 35/100\n",
      "62/62 [==============================] - 0s 3ms/step - loss: 0.0895 - accuracy: 0.9578 - val_loss: 0.1194 - val_accuracy: 0.9561\n",
      "Epoch 36/100\n",
      "62/62 [==============================] - 0s 3ms/step - loss: 0.1424 - accuracy: 0.9416 - val_loss: 0.2948 - val_accuracy: 0.9182\n",
      "Epoch 37/100\n",
      "62/62 [==============================] - 0s 3ms/step - loss: 0.1133 - accuracy: 0.9584 - val_loss: 0.1047 - val_accuracy: 0.9576\n",
      "Epoch 38/100\n",
      "62/62 [==============================] - 0s 3ms/step - loss: 0.0731 - accuracy: 0.9714 - val_loss: 0.2638 - val_accuracy: 0.9258\n",
      "Epoch 39/100\n",
      "62/62 [==============================] - 0s 3ms/step - loss: 0.1179 - accuracy: 0.9558 - val_loss: 0.1149 - val_accuracy: 0.9636\n",
      "Epoch 40/100\n",
      "62/62 [==============================] - 0s 3ms/step - loss: 0.0872 - accuracy: 0.9636 - val_loss: 0.1959 - val_accuracy: 0.9364\n",
      "Epoch 41/100\n",
      "62/62 [==============================] - 0s 3ms/step - loss: 0.1432 - accuracy: 0.9468 - val_loss: 0.1067 - val_accuracy: 0.9621\n",
      "Epoch 42/100\n",
      "62/62 [==============================] - 0s 3ms/step - loss: 0.0796 - accuracy: 0.9708 - val_loss: 0.0881 - val_accuracy: 0.9606\n",
      "Epoch 43/100\n",
      "62/62 [==============================] - 0s 3ms/step - loss: 0.0850 - accuracy: 0.9662 - val_loss: 0.1235 - val_accuracy: 0.9591\n",
      "Epoch 44/100\n",
      "62/62 [==============================] - 0s 3ms/step - loss: 0.0813 - accuracy: 0.9656 - val_loss: 0.1206 - val_accuracy: 0.9591\n",
      "Epoch 45/100\n",
      "62/62 [==============================] - 0s 3ms/step - loss: 0.0900 - accuracy: 0.9649 - val_loss: 0.1041 - val_accuracy: 0.9576\n",
      "Epoch 46/100\n",
      "62/62 [==============================] - 0s 3ms/step - loss: 0.1226 - accuracy: 0.9539 - val_loss: 0.3296 - val_accuracy: 0.9152\n",
      "Epoch 47/100\n",
      "62/62 [==============================] - 0s 3ms/step - loss: 0.1329 - accuracy: 0.9578 - val_loss: 0.2039 - val_accuracy: 0.9288\n",
      "Epoch 48/100\n",
      "62/62 [==============================] - 0s 3ms/step - loss: 0.1121 - accuracy: 0.9584 - val_loss: 0.0904 - val_accuracy: 0.9636\n",
      "Epoch 49/100\n",
      "62/62 [==============================] - 0s 3ms/step - loss: 0.0780 - accuracy: 0.9701 - val_loss: 0.1133 - val_accuracy: 0.9591\n",
      "Epoch 50/100\n",
      "62/62 [==============================] - 0s 3ms/step - loss: 0.0801 - accuracy: 0.9708 - val_loss: 0.1201 - val_accuracy: 0.9576\n",
      "Epoch 51/100\n",
      "62/62 [==============================] - 0s 3ms/step - loss: 0.0763 - accuracy: 0.9656 - val_loss: 0.1516 - val_accuracy: 0.9485\n",
      "Epoch 52/100\n",
      "62/62 [==============================] - 0s 3ms/step - loss: 0.1302 - accuracy: 0.9552 - val_loss: 0.1423 - val_accuracy: 0.9500\n",
      "Epoch 53/100\n",
      "62/62 [==============================] - 0s 3ms/step - loss: 0.1175 - accuracy: 0.9597 - val_loss: 0.2519 - val_accuracy: 0.9258\n",
      "Epoch 54/100\n",
      "62/62 [==============================] - 0s 3ms/step - loss: 0.1429 - accuracy: 0.9519 - val_loss: 0.1277 - val_accuracy: 0.9561\n",
      "Epoch 55/100\n",
      "62/62 [==============================] - 0s 3ms/step - loss: 0.0984 - accuracy: 0.9610 - val_loss: 0.1162 - val_accuracy: 0.9515\n",
      "Epoch 56/100\n",
      "62/62 [==============================] - 0s 3ms/step - loss: 0.0957 - accuracy: 0.9656 - val_loss: 0.0936 - val_accuracy: 0.9652\n",
      "Epoch 57/100\n",
      "62/62 [==============================] - 0s 3ms/step - loss: 0.0661 - accuracy: 0.9727 - val_loss: 0.1017 - val_accuracy: 0.9621\n",
      "Epoch 58/100\n",
      "62/62 [==============================] - 0s 3ms/step - loss: 0.0642 - accuracy: 0.9701 - val_loss: 0.1080 - val_accuracy: 0.9576\n"
     ]
    },
    {
     "name": "stdout",
     "output_type": "stream",
     "text": [
      "Epoch 59/100\n",
      "62/62 [==============================] - 0s 3ms/step - loss: 0.0789 - accuracy: 0.9734 - val_loss: 0.0969 - val_accuracy: 0.9606\n",
      "Epoch 60/100\n",
      "62/62 [==============================] - 0s 3ms/step - loss: 0.0666 - accuracy: 0.9727 - val_loss: 0.1016 - val_accuracy: 0.9591\n",
      "Epoch 61/100\n",
      "62/62 [==============================] - 0s 3ms/step - loss: 0.0596 - accuracy: 0.9753 - val_loss: 0.1019 - val_accuracy: 0.9545\n",
      "Epoch 62/100\n",
      "62/62 [==============================] - 0s 3ms/step - loss: 0.0716 - accuracy: 0.9708 - val_loss: 0.1015 - val_accuracy: 0.9561\n",
      "Epoch 63/100\n",
      "62/62 [==============================] - 0s 3ms/step - loss: 0.0520 - accuracy: 0.9799 - val_loss: 0.1561 - val_accuracy: 0.9576\n",
      "Epoch 64/100\n",
      "62/62 [==============================] - 0s 3ms/step - loss: 0.0879 - accuracy: 0.9682 - val_loss: 0.1567 - val_accuracy: 0.9485\n",
      "Epoch 65/100\n",
      "62/62 [==============================] - 0s 3ms/step - loss: 0.1173 - accuracy: 0.9597 - val_loss: 0.1044 - val_accuracy: 0.9530\n",
      "Epoch 66/100\n",
      "62/62 [==============================] - 0s 3ms/step - loss: 0.0869 - accuracy: 0.9643 - val_loss: 0.0912 - val_accuracy: 0.9667\n",
      "Epoch 67/100\n",
      "62/62 [==============================] - 0s 3ms/step - loss: 0.0844 - accuracy: 0.9714 - val_loss: 0.1372 - val_accuracy: 0.9545\n",
      "Epoch 68/100\n",
      "62/62 [==============================] - 0s 3ms/step - loss: 0.0738 - accuracy: 0.9727 - val_loss: 0.0832 - val_accuracy: 0.9682\n",
      "Epoch 69/100\n",
      "62/62 [==============================] - 0s 3ms/step - loss: 0.0526 - accuracy: 0.9812 - val_loss: 0.0848 - val_accuracy: 0.9667\n",
      "Epoch 70/100\n",
      "62/62 [==============================] - 0s 3ms/step - loss: 0.0606 - accuracy: 0.9766 - val_loss: 0.1132 - val_accuracy: 0.9545\n",
      "Epoch 71/100\n",
      "62/62 [==============================] - 0s 3ms/step - loss: 0.0545 - accuracy: 0.9753 - val_loss: 0.0929 - val_accuracy: 0.9576\n",
      "Epoch 72/100\n",
      "62/62 [==============================] - 0s 3ms/step - loss: 0.0713 - accuracy: 0.9740 - val_loss: 0.1739 - val_accuracy: 0.9439\n",
      "Epoch 73/100\n",
      "62/62 [==============================] - 0s 3ms/step - loss: 0.0869 - accuracy: 0.9701 - val_loss: 0.1383 - val_accuracy: 0.9530\n",
      "Epoch 74/100\n",
      "62/62 [==============================] - 0s 3ms/step - loss: 0.0863 - accuracy: 0.9701 - val_loss: 0.1187 - val_accuracy: 0.9561\n",
      "Epoch 75/100\n",
      "62/62 [==============================] - 0s 3ms/step - loss: 0.0548 - accuracy: 0.9779 - val_loss: 0.0964 - val_accuracy: 0.9621\n",
      "Epoch 76/100\n",
      "62/62 [==============================] - 0s 3ms/step - loss: 0.0695 - accuracy: 0.9734 - val_loss: 0.1265 - val_accuracy: 0.9530\n",
      "Epoch 77/100\n",
      "62/62 [==============================] - 0s 3ms/step - loss: 0.0649 - accuracy: 0.9721 - val_loss: 0.1096 - val_accuracy: 0.9606\n",
      "Epoch 78/100\n",
      "62/62 [==============================] - 0s 3ms/step - loss: 0.0572 - accuracy: 0.9760 - val_loss: 0.1474 - val_accuracy: 0.9576\n",
      "Epoch 79/100\n",
      "62/62 [==============================] - 0s 3ms/step - loss: 0.1468 - accuracy: 0.9506 - val_loss: 0.2645 - val_accuracy: 0.9439\n",
      "Epoch 80/100\n",
      "62/62 [==============================] - 0s 3ms/step - loss: 0.1592 - accuracy: 0.9539 - val_loss: 0.1621 - val_accuracy: 0.9515\n",
      "Epoch 81/100\n",
      "62/62 [==============================] - 0s 3ms/step - loss: 0.0569 - accuracy: 0.9766 - val_loss: 0.1301 - val_accuracy: 0.9606\n",
      "Epoch 82/100\n",
      "62/62 [==============================] - 0s 3ms/step - loss: 0.0633 - accuracy: 0.9760 - val_loss: 0.0974 - val_accuracy: 0.9636\n",
      "Epoch 83/100\n",
      "62/62 [==============================] - 0s 3ms/step - loss: 0.0559 - accuracy: 0.9766 - val_loss: 0.1077 - val_accuracy: 0.9636\n",
      "Epoch 84/100\n",
      "62/62 [==============================] - 0s 3ms/step - loss: 0.0589 - accuracy: 0.9753 - val_loss: 0.1377 - val_accuracy: 0.9606\n",
      "Epoch 85/100\n",
      "62/62 [==============================] - 0s 3ms/step - loss: 0.0515 - accuracy: 0.9773 - val_loss: 0.1248 - val_accuracy: 0.9561\n",
      "Epoch 86/100\n",
      "62/62 [==============================] - 0s 3ms/step - loss: 0.0628 - accuracy: 0.9747 - val_loss: 0.1266 - val_accuracy: 0.9515\n",
      "Epoch 87/100\n",
      "62/62 [==============================] - 0s 3ms/step - loss: 0.0573 - accuracy: 0.9779 - val_loss: 0.1347 - val_accuracy: 0.9515\n",
      "Epoch 88/100\n",
      "62/62 [==============================] - 0s 3ms/step - loss: 0.1195 - accuracy: 0.9643 - val_loss: 0.2247 - val_accuracy: 0.9439\n",
      "Epoch 89/100\n",
      "62/62 [==============================] - 0s 3ms/step - loss: 0.1000 - accuracy: 0.9682 - val_loss: 0.1292 - val_accuracy: 0.9561\n",
      "Epoch 90/100\n",
      "62/62 [==============================] - 0s 3ms/step - loss: 0.1000 - accuracy: 0.9727 - val_loss: 0.1801 - val_accuracy: 0.9545\n",
      "Epoch 91/100\n",
      "62/62 [==============================] - 0s 3ms/step - loss: 0.0503 - accuracy: 0.9773 - val_loss: 0.1319 - val_accuracy: 0.9621\n",
      "Epoch 92/100\n",
      "62/62 [==============================] - 0s 3ms/step - loss: 0.0633 - accuracy: 0.9714 - val_loss: 0.1506 - val_accuracy: 0.9485\n",
      "Epoch 93/100\n",
      "62/62 [==============================] - 0s 3ms/step - loss: 0.1540 - accuracy: 0.9539 - val_loss: 0.1209 - val_accuracy: 0.9470\n",
      "Epoch 94/100\n",
      "62/62 [==============================] - 0s 3ms/step - loss: 0.0694 - accuracy: 0.9753 - val_loss: 0.1626 - val_accuracy: 0.9500\n",
      "Epoch 95/100\n",
      "62/62 [==============================] - 0s 3ms/step - loss: 0.0836 - accuracy: 0.9662 - val_loss: 0.1971 - val_accuracy: 0.9439\n",
      "Epoch 96/100\n",
      "62/62 [==============================] - 0s 3ms/step - loss: 0.0608 - accuracy: 0.9753 - val_loss: 0.0847 - val_accuracy: 0.9652\n",
      "Epoch 97/100\n",
      "62/62 [==============================] - 0s 3ms/step - loss: 0.0504 - accuracy: 0.9786 - val_loss: 0.1166 - val_accuracy: 0.9591\n",
      "Epoch 98/100\n",
      "62/62 [==============================] - 0s 3ms/step - loss: 0.0536 - accuracy: 0.9734 - val_loss: 0.1098 - val_accuracy: 0.9621\n",
      "Epoch 99/100\n",
      "62/62 [==============================] - 0s 3ms/step - loss: 0.0492 - accuracy: 0.9786 - val_loss: 0.1159 - val_accuracy: 0.9652\n",
      "Epoch 100/100\n",
      "62/62 [==============================] - 0s 3ms/step - loss: 0.0569 - accuracy: 0.9766 - val_loss: 0.0914 - val_accuracy: 0.9636\n"
     ]
    }
   ],
   "source": [
    "cnn_model_history = cnn_model.fit(X_train, y_train, epochs=100, batch_size = 25, validation_data = (X_test, y_test))"
   ]
  },
  {
   "cell_type": "code",
   "execution_count": 16,
   "id": "28e56ccc",
   "metadata": {},
   "outputs": [
    {
     "data": {
      "text/plain": [
       "Text(0, 0.5, 'Accuracy')"
      ]
     },
     "execution_count": 16,
     "metadata": {},
     "output_type": "execute_result"
    },
    {
     "data": {
      "image/png": "[encoded data removed]",
      "text/plain": [
       "<Figure size 864x576 with 1 Axes>"
      ]
     },
     "metadata": {
      "needs_background": "light"
     },
     "output_type": "display_data"
    }
   ],
   "source": [
    "#display accuracy\n",
    "fig = plt.figure(figsize=(12,8))\n",
    "plt.plot(cnn_model_history.history['accuracy'])\n",
    "plt.plot(cnn_model_history.history['val_accuracy'])\n",
    "plt.ylim(0.2, 1)\n",
    "plt.legend([\"accuracy\",\"val_accuracy\"])\n",
    "plt.title('Accuracy Vs Val_Accuracy')\n",
    "plt.xlabel('Epoch')\n",
    "plt.ylabel('Accuracy')"
   ]
  },
  {
   "cell_type": "code",
   "execution_count": 17,
   "id": "a82446eb",
   "metadata": {},
   "outputs": [
    {
     "data": {
      "text/plain": [
       "Text(0, 0.5, 'Loss')"
      ]
     },
     "execution_count": 17,
     "metadata": {},
     "output_type": "execute_result"
    },
    {
     "data": {
      "image/png": "[encoded data removed]",
      "text/plain": [
       "<Figure size 864x576 with 1 Axes>"
      ]
     },
     "metadata": {
      "needs_background": "light"
     },
     "output_type": "display_data"
    }
   ],
   "source": [
    "#display loss\n",
    "fig = plt.figure(figsize=(12,8))\n",
    "plt.plot(cnn_model_history.history['loss'])\n",
    "plt.plot(cnn_model_history.history['val_loss'])\n",
    "plt.legend([\"loss\",\"val_loss\"])\n",
    "plt.title('Loss Vs Val_loss')\n",
    "plt.xlabel('Epoch')\n",
    "plt.ylabel('Loss')"
   ]
  },
  {
   "cell_type": "code",
   "execution_count": null,
   "id": "0760ee50",
   "metadata": {},
   "outputs": [],
   "source": []
  }
 ],
 "metadata": {
  "kernelspec": {
   "display_name": "Python 3 (ipykernel)",
   "language": "python",
   "name": "python3"
  },
  "language_info": {
   "codemirror_mode": {
    "name": "ipython",
    "version": 3
   },
   "file_extension": ".py",
   "mimetype": "text/x-python",
   "name": "python",
   "nbconvert_exporter": "python",
   "pygments_lexer": "ipython3",
   "version": "3.10.1"
  }
 },
 "nbformat": 4,
 "nbformat_minor": 5
}
