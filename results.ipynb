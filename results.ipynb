{
 "cells": [
  {
   "cell_type": "code",
   "execution_count": 1,
   "id": "f160e3e3",
   "metadata": {},
   "outputs": [],
   "source": [
    "#import libraries\n",
    "import pandas as pd\n",
    "import matplotlib.pyplot as plt\n",
    "import numpy as np"
   ]
  },
  {
   "cell_type": "code",
   "execution_count": 2,
   "id": "d9380724",
   "metadata": {},
   "outputs": [
    {
     "name": "stdout",
     "output_type": "stream",
     "text": [
      "        90%       80%       70%       60%       50%\n",
      "0  0.990909  0.995455  0.987879  0.994318  0.988182\n",
      "1  0.990909  0.995455  0.989394  0.989773  0.994545\n",
      "2  0.990909  1.000000  0.995455  0.993182  0.986364\n",
      "3  0.995455  0.997727  0.990909  0.989773  0.983636\n",
      "4  0.986364  0.995455  0.993939  0.990909  0.987273\n",
      "5  0.995455  0.995455  0.989394  0.994318  0.985455\n",
      "6  0.995455  0.995455  0.992424  0.981818  0.986364\n",
      "7  1.000000  0.995455  0.989394  0.994318  0.980000\n",
      "8  0.986364  0.990909  0.993939  0.990909  0.990000\n",
      "9  0.995455  0.990909  0.992424  0.988636  0.989091\n",
      "        90%       80%       70%       60%       50%\n",
      "0  0.977273  0.965909  0.981818  0.973864  0.965455\n",
      "1  0.986364  0.975000  0.969697  0.968182  0.973636\n",
      "2  0.981818  0.975000  0.978788  0.968182  0.966364\n",
      "3  0.977273  0.981818  0.974242  0.965909  0.966364\n",
      "4  0.990909  0.959091  0.975758  0.973864  0.964545\n",
      "5  0.981818  0.970455  0.978788  0.972727  0.970909\n",
      "6  0.981818  0.981818  0.978788  0.977273  0.971818\n",
      "7  0.990909  0.970455  0.963636  0.967045  0.970909\n",
      "8  0.986364  0.972727  0.965152  0.970455  0.959091\n",
      "9  0.963636  0.977273  0.965152  0.975000  0.970909\n"
     ]
    }
   ],
   "source": [
    "#import datasets\n",
    "df_rfc = pd.read_csv(\"input/rfc_accuracies.csv\")\n",
    "df_knn = pd.read_csv(\"input/knn_accuracies.csv\")\n",
    "print(df_rfc)\n",
    "print(df_knn)"
   ]
  },
  {
   "cell_type": "code",
   "execution_count": 15,
   "id": "64136631",
   "metadata": {},
   "outputs": [
    {
     "name": "stdout",
     "output_type": "stream",
     "text": [
      "[0.9927272727272729, 0.9952272727272728, 0.9915151515151516, 0.9907954545454544, 0.9870909090909091]\n"
     ]
    },
    {
     "data": {
      "image/png": "[encoded data removed]",
      "text/plain": [
       "<Figure size 432x288 with 2 Axes>"
      ]
     },
     "metadata": {
      "needs_background": "light"
     },
     "output_type": "display_data"
    }
   ],
   "source": [
    "#calculate average values from 10 results\n",
    "avg_rfc = []\n",
    "avg_rfc.append(df_rfc['90%'].mean())\n",
    "avg_rfc.append(df_rfc['80%'].mean())\n",
    "avg_rfc.append(df_rfc['70%'].mean())\n",
    "avg_rfc.append(df_rfc['60%'].mean())\n",
    "avg_rfc.append(df_rfc['50%'].mean())\n",
    "print(avg_rfc)\n",
    "\n",
    "#display accuracies\n",
    "fig = plt.figure()\n",
    "plt.title('Random forest accuracies')\n",
    "ax = fig.add_axes([0,0,1,1])\n",
    "ratios = [90.0, 80.0, 70.0, 60.0, 50.0]\n",
    "plt.xticks(ratios) \n",
    "ax.bar(ratios,avg_rfc, color='blue', width=8)\n",
    "ax.set_ylim([0.9, 1.0])\n",
    "plt.title('Random forest accuracies')\n",
    "plt.show()"
   ]
  },
  {
   "cell_type": "code",
   "execution_count": 16,
   "id": "5bcf685c",
   "metadata": {},
   "outputs": [
    {
     "name": "stdout",
     "output_type": "stream",
     "text": [
      "[0.9818181818181818, 0.9729545454545454, 0.973181818181818, 0.9712499999999998, 0.968]\n"
     ]
    },
    {
     "data": {
      "image/png": "[encoded data removed]",
      "text/plain": [
       "<Figure size 432x288 with 1 Axes>"
      ]
     },
     "metadata": {
      "needs_background": "light"
     },
     "output_type": "display_data"
    }
   ],
   "source": [
    "#calculate average values from 10 results\n",
    "avg_knn = []\n",
    "avg_knn.append(df_knn['90%'].mean())\n",
    "avg_knn.append(df_knn['80%'].mean())\n",
    "avg_knn.append(df_knn['70%'].mean())\n",
    "avg_knn.append(df_knn['60%'].mean())\n",
    "avg_knn.append(df_knn['50%'].mean())\n",
    "print(avg_knn)\n",
    "\n",
    "#display accuracies\n",
    "fig = plt.figure()\n",
    "ax = fig.add_axes([0,0,1,1])\n",
    "ratios = [90.0, 80.0, 70.0, 60.0, 50.0]\n",
    "plt.xticks(ratios) \n",
    "ax.bar(ratios,avg_knn, color='red', width=8)\n",
    "ax.set_ylim([0.9, 1.0])\n",
    "plt.title('KNN accuracies')\n",
    "plt.show()"
   ]
  },
  {
   "cell_type": "code",
   "execution_count": 17,
   "id": "d7744059",
   "metadata": {},
   "outputs": [
    {
     "data": {
      "image/png": "[encoded data removed]",
      "text/plain": [
       "<Figure size 648x432 with 2 Axes>"
      ]
     },
     "metadata": {
      "needs_background": "light"
     },
     "output_type": "display_data"
    }
   ],
   "source": [
    "fig = plt.figure(figsize=(9,6))\n",
    "plt.title('Accuracies')\n",
    "ax = fig.add_axes([0,0,1,1])\n",
    "#ratios = x values\n",
    "ratios = [90.0, 80.0, 70.0, 60.0, 50.0]\n",
    "#knn accuracies\n",
    "bar1 = ax.bar(np.array(ratios)+3,avg_knn, width=3, color='red', align='center')\n",
    "#rfc accuracies\n",
    "bar2 = ax.bar(np.array(ratios),avg_rfc, width=3, color='blue', align='center')\n",
    "#cnn accuracies\n",
    "bar3 = ax.bar(np.array(ratios)-3,avg_rfc, width=3, color='orange', align='center')\n",
    "ax.set_ylim([0.9, 1.0])\n",
    "plt.legend([bar1, bar2, bar3], ['KNN', 'RFC', 'CNN'], loc=3)\n",
    "plt.xticks(ratios) \n",
    "plt.show()"
   ]
  },
  {
   "cell_type": "code",
   "execution_count": null,
   "id": "d68f5f0c",
   "metadata": {},
   "outputs": [],
   "source": []
  }
 ],
 "metadata": {
  "kernelspec": {
   "display_name": "Python 3 (ipykernel)",
   "language": "python",
   "name": "python3"
  },
  "language_info": {
   "codemirror_mode": {
    "name": "ipython",
    "version": 3
   },
   "file_extension": ".py",
   "mimetype": "text/x-python",
   "name": "python",
   "nbconvert_exporter": "python",
   "pygments_lexer": "ipython3",
   "version": "3.10.1"
  }
 },
 "nbformat": 4,
 "nbformat_minor": 5
}
