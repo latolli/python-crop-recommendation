{
 "cells": [
  {
   "cell_type": "code",
   "execution_count": 1,
   "id": "19e3512e",
   "metadata": {},
   "outputs": [],
   "source": [
    "#import necessary libraries and functions\n",
    "from sklearn import datasets\n",
    "import pandas as pd\n",
    "import matplotlib.pyplot as plt\n",
    "from sklearn.model_selection import train_test_split\n",
    "from sklearn.ensemble import RandomForestClassifier\n",
    "from sklearn import metrics\n",
    "from sklearn.metrics import classification_report"
   ]
  },
  {
   "cell_type": "code",
   "execution_count": 2,
   "id": "a45bdd5f",
   "metadata": {},
   "outputs": [
    {
     "name": "stdout",
     "output_type": "stream",
     "text": [
      "        N   P   K  temperature   humidity        ph    rainfall   label\n",
      "0      90  42  43    20.879744  82.002744  6.502985  202.935536    rice\n",
      "1      85  58  41    21.770462  80.319644  7.038096  226.655537    rice\n",
      "2      60  55  44    23.004459  82.320763  7.840207  263.964248    rice\n",
      "3      74  35  40    26.491096  80.158363  6.980401  242.864034    rice\n",
      "4      78  42  42    20.130175  81.604873  7.628473  262.717340    rice\n",
      "...   ...  ..  ..          ...        ...       ...         ...     ...\n",
      "2195  107  34  32    26.774637  66.413269  6.780064  177.774507  coffee\n",
      "2196   99  15  27    27.417112  56.636362  6.086922  127.924610  coffee\n",
      "2197  118  33  30    24.131797  67.225123  6.362608  173.322839  coffee\n",
      "2198  117  32  34    26.272418  52.127394  6.758793  127.175293  coffee\n",
      "2199  104  18  30    23.603016  60.396475  6.779833  140.937041  coffee\n",
      "\n",
      "[2200 rows x 8 columns]\n"
     ]
    }
   ],
   "source": [
    "#Load dataset\n",
    "crops = pd.read_csv('input/Crop_recommendation.csv')\n",
    "\n",
    "print(crops)"
   ]
  },
  {
   "cell_type": "code",
   "execution_count": 3,
   "id": "f3443613",
   "metadata": {},
   "outputs": [
    {
     "name": "stdout",
     "output_type": "stream",
     "text": [
      "<class 'pandas.core.frame.DataFrame'>\n",
      "RangeIndex: 2200 entries, 0 to 2199\n",
      "Data columns (total 8 columns):\n",
      " #   Column       Non-Null Count  Dtype  \n",
      "---  ------       --------------  -----  \n",
      " 0   N            2200 non-null   int64  \n",
      " 1   P            2200 non-null   int64  \n",
      " 2   K            2200 non-null   int64  \n",
      " 3   temperature  2200 non-null   float64\n",
      " 4   humidity     2200 non-null   float64\n",
      " 5   ph           2200 non-null   float64\n",
      " 6   rainfall     2200 non-null   float64\n",
      " 7   label        2200 non-null   object \n",
      "dtypes: float64(4), int64(3), object(1)\n",
      "memory usage: 137.6+ KB\n",
      "None\n"
     ]
    }
   ],
   "source": [
    "X=crops[['N', 'P', 'K', 'temperature', 'humidity', 'ph', 'rainfall']]  # input values\n",
    "Y=crops['label']  # output\n",
    "print(crops.info())"
   ]
  },
  {
   "cell_type": "code",
   "execution_count": 4,
   "id": "09f23fa2",
   "metadata": {},
   "outputs": [
    {
     "name": "stdout",
     "output_type": "stream",
     "text": [
      "Test data: 90.0%\n",
      "Accuracy: 0.9484848484848485\n",
      "Test data: 80.0%\n",
      "Accuracy: 0.9659090909090909\n",
      "Test data: 70.0%\n",
      "Accuracy: 0.9896103896103896\n",
      "Test data: 60.0%\n",
      "Accuracy: 0.9916666666666667\n"
     ]
    }
   ],
   "source": [
    "#list for accuracies\n",
    "accuracies = []\n",
    "#test random forest with five different test/train data ratios\n",
    "for i in range(1,5):\n",
    "    #calculate ratio\n",
    "    test_train_ratio = float((100 - 10*i) / 100)\n",
    "    print(\"Test data: {}%\".format(100 * test_train_ratio))\n",
    "    \n",
    "    # Split dataset into training set and test set\n",
    "    X_train, X_test, y_train, y_test = train_test_split(X, Y, test_size=test_train_ratio) # 70% training and 30% test\n",
    "\n",
    "    #Create a Gaussian Classifier\n",
    "    clf=RandomForestClassifier(n_estimators=20, random_state=0)\n",
    "\n",
    "    #Train the model using the training sets\n",
    "    clf.fit(X_train,y_train)\n",
    "\n",
    "    #predict outputs using testing data\n",
    "    y_pred=clf.predict(X_test)\n",
    "    print(\"Accuracy:\",metrics.accuracy_score(y_test, y_pred))\n",
    "    accuracies.append(metrics.accuracy_score(y_test, y_pred))\n"
   ]
  },
  {
   "cell_type": "code",
   "execution_count": 5,
   "id": "44c6679a",
   "metadata": {},
   "outputs": [
    {
     "name": "stdout",
     "output_type": "stream",
     "text": [
      "Test data: 90.0%, accuracy: 0.9484848484848485\n",
      "Test data: 80.0%, accuracy: 0.9659090909090909\n",
      "Test data: 70.0%, accuracy: 0.9896103896103896\n",
      "Test data: 60.0%, accuracy: 0.9916666666666667\n",
      "              precision    recall  f1-score   support\n",
      "\n",
      "       apple       1.00      1.00      1.00        59\n",
      "      banana       1.00      1.00      1.00        69\n",
      "   blackgram       0.97      1.00      0.98        59\n",
      "    chickpea       1.00      1.00      1.00        63\n",
      "     coconut       1.00      1.00      1.00        52\n",
      "      coffee       1.00      1.00      1.00        65\n",
      "      cotton       0.98      1.00      0.99        53\n",
      "      grapes       1.00      1.00      1.00        63\n",
      "        jute       0.98      0.92      0.95        61\n",
      " kidneybeans       1.00      1.00      1.00        64\n",
      "      lentil       0.97      1.00      0.98        62\n",
      "       maize       1.00      0.98      0.99        57\n",
      "       mango       1.00      1.00      1.00        66\n",
      "   mothbeans       1.00      0.92      0.96        49\n",
      "    mungbean       1.00      1.00      1.00        63\n",
      "   muskmelon       1.00      1.00      1.00        61\n",
      "      orange       1.00      1.00      1.00        61\n",
      "      papaya       1.00      1.00      1.00        58\n",
      "  pigeonpeas       1.00      1.00      1.00        56\n",
      " pomegranate       1.00      1.00      1.00        59\n",
      "        rice       0.92      0.98      0.95        55\n",
      "  watermelon       1.00      1.00      1.00        65\n",
      "\n",
      "    accuracy                           0.99      1320\n",
      "   macro avg       0.99      0.99      0.99      1320\n",
      "weighted avg       0.99      0.99      0.99      1320\n",
      "\n"
     ]
    }
   ],
   "source": [
    "# calculate, how many times output was predicted correctly with testing data\n",
    "for i in range(1,5):\n",
    "    test_train_ratio = float((100 - 10*i) / 100)\n",
    "    print(\"Test data: {}%, accuracy: {}\".format(100 * test_train_ratio, accuracies[i-1]))\n",
    "print(classification_report(y_test,y_pred))"
   ]
  },
  {
   "cell_type": "code",
   "execution_count": 6,
   "id": "e8fc7f7f",
   "metadata": {},
   "outputs": [
    {
     "data": {
      "image/png": "[encoded data removed]",
      "text/plain": [
       "<Figure size 432x288 with 2 Axes>"
      ]
     },
     "metadata": {
      "needs_background": "light"
     },
     "output_type": "display_data"
    }
   ],
   "source": [
    "#display accuracies\n",
    "fig = plt.figure()\n",
    "plt.title('Accuracies')\n",
    "ax = fig.add_axes([0,0,1,1])\n",
    "ratios = ['90%', '80%', '70%', '60%']\n",
    "ax.bar(ratios,accuracies)\n",
    "ax.set_ylim([0.9, 1.0])\n",
    "plt.show()"
   ]
  },
  {
   "cell_type": "code",
   "execution_count": 7,
   "id": "49dcf73e",
   "metadata": {},
   "outputs": [
    {
     "name": "stdout",
     "output_type": "stream",
     "text": [
      "  ratio  accuracy\n",
      "0   90%  0.948485\n",
      "1   80%  0.965909\n",
      "2   70%  0.989610\n",
      "3   60%  0.991667\n"
     ]
    }
   ],
   "source": [
    "#save final data to csv file\n",
    "df = pd.DataFrame({'ratio': [],\n",
    "                         'accuracy': []\n",
    "                        })\n",
    "for i in range(4):\n",
    "    df.loc[len(df.index)] = [ratios[i], accuracies[i]]\n",
    "    \n",
    "print(df)\n",
    "\n",
    "df.to_csv('input/rfc_accuracies.csv', index=False)"
   ]
  },
  {
   "cell_type": "code",
   "execution_count": null,
   "id": "eeacb270",
   "metadata": {},
   "outputs": [],
   "source": []
  }
 ],
 "metadata": {
  "kernelspec": {
   "display_name": "Python 3 (ipykernel)",
   "language": "python",
   "name": "python3"
  },
  "language_info": {
   "codemirror_mode": {
    "name": "ipython",
    "version": 3
   },
   "file_extension": ".py",
   "mimetype": "text/x-python",
   "name": "python",
   "nbconvert_exporter": "python",
   "pygments_lexer": "ipython3",
   "version": "3.10.1"
  }
 },
 "nbformat": 4,
 "nbformat_minor": 5
}
